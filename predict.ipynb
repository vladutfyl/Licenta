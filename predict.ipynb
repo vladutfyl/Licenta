{
  "nbformat": 4,
  "nbformat_minor": 0,
  "metadata": {
    "colab": {
      "provenance": [],
      "gpuType": "T4"
    },
    "kernelspec": {
      "name": "python3",
      "display_name": "Python 3"
    },
    "language_info": {
      "name": "python"
    },
    "accelerator": "GPU"
  },
  "cells": [
    {
      "cell_type": "markdown",
      "source": [
        "Comment or skip this step if you are using Jupyter Notebook"
      ],
      "metadata": {
        "id": "N7CuDXDql1RM"
      }
    },
    {
      "cell_type": "code",
      "source": [
        "!git clone https://github.com/vladutfyl/Licenta.git"
      ],
      "metadata": {
        "id": "VBkQedT7Atn5"
      },
      "execution_count": null,
      "outputs": []
    },
    {
      "cell_type": "code",
      "execution_count": 10,
      "metadata": {
        "colab": {
          "base_uri": "https://localhost:8080/"
        },
        "id": "pOAHL92zANKP",
        "outputId": "c56d0dcb-6ea4-449d-888a-29067cb5b528"
      },
      "outputs": [
        {
          "output_type": "stream",
          "name": "stdout",
          "text": [
            "Drive already mounted at /content/drive; to attempt to forcibly remount, call drive.mount(\"/content/drive\", force_remount=True).\n"
          ]
        }
      ],
      "source": [
        "import os\n",
        "from matplotlib import pyplot as plt\n",
        "import numpy as np\n",
        "import time\n",
        "from PIL import Image\n",
        "from tensorflow.keras.models import load_model\n",
        "import tensorflow as tf\n",
        "# Comment next two lines if you are using Jupyter Notebook\n",
        "from google.colab import drive\n",
        "drive.mount('/content/drive')\n",
        "\n",
        "root_dir=\"Licenta/RMFD/self-built-masked-face-recognition-dataset/AFDB_masked_face_dataset/\""
      ]
    },
    {
      "cell_type": "code",
      "source": [
        "def open_image(image_path, required_size=(160,160)):\n",
        "    img = Image.open(image_path)\n",
        "    img = img.convert('RGB')\n",
        "    img = img.resize(required_size)\n",
        "    im = np.asarray(img)\n",
        "    im = np.reshape(im,[1,160,160,3])\n",
        "    return im"
      ],
      "metadata": {
        "id": "cNfUdqb7ATaS"
      },
      "execution_count": 11,
      "outputs": []
    },
    {
      "cell_type": "code",
      "source": [
        "from sklearn.preprocessing import LabelEncoder\n",
        "le = LabelEncoder()\n",
        "le.classes_ = np.load('Licenta/classes.npy')\n",
        "\n",
        "model = load_model('/content/drive/MyDrive/Licenta/model_75000_batch250_ep800_acc44.h5')"
      ],
      "metadata": {
        "id": "OdH3svm7BCpR"
      },
      "execution_count": 12,
      "outputs": []
    },
    {
      "cell_type": "code",
      "source": [
        "def test(root_dir):\n",
        "  matches=0.0\n",
        "  total=0\n",
        "  for person in os.listdir(root_dir):\n",
        "    person_folder=os.path.join(root_dir,person)\n",
        "    for image_path in os.listdir(person_folder):\n",
        "      total+=1\n",
        "      im = open_image(os.path.join(person_folder,image_path))\n",
        "      [ypred]=model.predict(im).argmax(axis=-1)\n",
        "      if le.classes_[ypred] == person:\n",
        "        matches+=1\n",
        "      #else:\n",
        "        print(\"For image_path {} of person {} predicttion was {}\".format(image_path,person,le.classes_[ypred]))\n",
        "  print(matches/total*100)"
      ],
      "metadata": {
        "id": "vHIvUbrfA5qA"
      },
      "execution_count": 13,
      "outputs": []
    },
    {
      "cell_type": "code",
      "source": [
        "test(root_dir)"
      ],
      "metadata": {
        "colab": {
          "base_uri": "https://localhost:8080/"
        },
        "id": "-DuZFabDQhMC",
        "outputId": "b7e9f5e4-05f4-49e8-a230-65182b0f7043"
      },
      "execution_count": 19,
      "outputs": [
        {
          "output_type": "stream",
          "name": "stdout",
          "text": [
            "1/1 [==============================] - 0s 20ms/step\n",
            "1/1 [==============================] - 0s 20ms/step\n",
            "1/1 [==============================] - 0s 20ms/step\n",
            "1/1 [==============================] - 0s 17ms/step\n",
            "1/1 [==============================] - 0s 20ms/step\n",
            "For image_path 0_0_24.jpg of person houminghao predicttion was houminghao\n",
            "1/1 [==============================] - 0s 19ms/step\n",
            "1/1 [==============================] - 0s 17ms/step\n",
            "1/1 [==============================] - 0s 18ms/step\n",
            "For image_path 0_1_5.jpg of person wuzhenyu predicttion was wuzhenyu\n",
            "1/1 [==============================] - 0s 23ms/step\n",
            "1/1 [==============================] - 0s 20ms/step\n",
            "1/1 [==============================] - 0s 23ms/step\n",
            "1/1 [==============================] - 0s 22ms/step\n",
            "1/1 [==============================] - 0s 20ms/step\n",
            "1/1 [==============================] - 0s 22ms/step\n",
            "1/1 [==============================] - 0s 18ms/step\n",
            "For image_path 0_0_28.jpg of person yangzi predicttion was yangzi\n",
            "1/1 [==============================] - 0s 21ms/step\n",
            "1/1 [==============================] - 0s 22ms/step\n",
            "For image_path 1_0_1.jpg of person lizhiting predicttion was lizhiting\n",
            "1/1 [==============================] - 0s 21ms/step\n",
            "1/1 [==============================] - 0s 21ms/step\n",
            "For image_path 0_0_3.jpg of person yaoming predicttion was yaoming\n",
            "1/1 [==============================] - 0s 20ms/step\n",
            "1/1 [==============================] - 0s 21ms/step\n",
            "1/1 [==============================] - 0s 22ms/step\n",
            "For image_path 0_2_1.jpg of person yaoming predicttion was yaoming\n",
            "1/1 [==============================] - 0s 20ms/step\n",
            "1/1 [==============================] - 0s 18ms/step\n",
            "1/1 [==============================] - 0s 25ms/step\n",
            "1/1 [==============================] - 0s 21ms/step\n",
            "1/1 [==============================] - 0s 20ms/step\n",
            "For image_path 0_0_3.jpg of person yangyang predicttion was yangyang\n",
            "1/1 [==============================] - 0s 21ms/step\n",
            "For image_path 0_0_1.jpg of person yangyang predicttion was yangyang\n",
            "1/1 [==============================] - 0s 22ms/step\n",
            "For image_path 0_0_8.jpg of person yangyang predicttion was yangyang\n",
            "1/1 [==============================] - 0s 24ms/step\n",
            "1/1 [==============================] - 0s 23ms/step\n",
            "1/1 [==============================] - 0s 19ms/step\n",
            "1/1 [==============================] - 0s 21ms/step\n",
            "1/1 [==============================] - 0s 20ms/step\n",
            "1/1 [==============================] - 0s 21ms/step\n",
            "For image_path 0_0_5.jpg of person zhangbichen predicttion was zhangbichen\n",
            "1/1 [==============================] - 0s 25ms/step\n",
            "1/1 [==============================] - 0s 21ms/step\n",
            "1/1 [==============================] - 0s 28ms/step\n",
            "1/1 [==============================] - 0s 21ms/step\n",
            "1/1 [==============================] - 0s 18ms/step\n",
            "1/1 [==============================] - 0s 28ms/step\n",
            "1/1 [==============================] - 0s 20ms/step\n",
            "For image_path 1_0_13.jpg of person zhangbichen predicttion was zhangbichen\n",
            "1/1 [==============================] - 0s 24ms/step\n",
            "1/1 [==============================] - 0s 25ms/step\n",
            "For image_path 1_0_4c693c97jw1eypwx16innj21s015oe82.jpg of person gongbeibi predicttion was gongbeibi\n",
            "1/1 [==============================] - 0s 25ms/step\n",
            "1/1 [==============================] - 0s 23ms/step\n",
            "1/1 [==============================] - 0s 22ms/step\n",
            "1/1 [==============================] - 0s 19ms/step\n",
            "For image_path 0_0_28.jpg of person wangqing predicttion was wangqing\n",
            "1/1 [==============================] - 0s 23ms/step\n",
            "For image_path 0_1_28.jpg of person wangqing predicttion was wangqing\n",
            "1/1 [==============================] - 0s 21ms/step\n",
            "1/1 [==============================] - 0s 18ms/step\n",
            "For image_path 0_1_2.jpg of person matianyu predicttion was matianyu\n",
            "1/1 [==============================] - 0s 21ms/step\n",
            "1/1 [==============================] - 0s 20ms/step\n",
            "1/1 [==============================] - 0s 23ms/step\n",
            "1/1 [==============================] - 0s 21ms/step\n",
            "1/1 [==============================] - 0s 19ms/step\n",
            "1/1 [==============================] - 0s 24ms/step\n",
            "1/1 [==============================] - 0s 27ms/step\n",
            "1/1 [==============================] - 0s 18ms/step\n",
            "1/1 [==============================] - 0s 20ms/step\n",
            "1/1 [==============================] - 0s 20ms/step\n",
            "For image_path 0_0_21.jpg of person xujiao predicttion was xujiao\n",
            "1/1 [==============================] - 0s 22ms/step\n",
            "1/1 [==============================] - 0s 21ms/step\n",
            "1/1 [==============================] - 0s 20ms/step\n",
            "For image_path 0_0_1.jpg of person jingtian predicttion was jingtian\n",
            "1/1 [==============================] - 0s 19ms/step\n",
            "1/1 [==============================] - 0s 18ms/step\n",
            "1/1 [==============================] - 0s 18ms/step\n",
            "For image_path 0_0_3.jpg of person zhangbaizhi predicttion was zhangbaizhi\n",
            "1/1 [==============================] - 0s 23ms/step\n",
            "1/1 [==============================] - 0s 18ms/step\n",
            "1/1 [==============================] - 0s 18ms/step\n",
            "1/1 [==============================] - 0s 19ms/step\n",
            "For image_path 0_0_0.jpg of person linsiyi predicttion was linsiyi\n",
            "1/1 [==============================] - 0s 20ms/step\n",
            "1/1 [==============================] - 0s 18ms/step\n",
            "1/1 [==============================] - 0s 27ms/step\n",
            "1/1 [==============================] - 0s 19ms/step\n",
            "For image_path 0_0_7.jpg of person yuanshanshan predicttion was yuanshanshan\n",
            "1/1 [==============================] - 0s 20ms/step\n",
            "1/1 [==============================] - 0s 18ms/step\n",
            "1/1 [==============================] - 0s 18ms/step\n",
            "1/1 [==============================] - 0s 18ms/step\n",
            "1/1 [==============================] - 0s 22ms/step\n",
            "1/1 [==============================] - 0s 18ms/step\n",
            "1/1 [==============================] - 0s 21ms/step\n",
            "For image_path 0_0_4.jpg of person wangyuan predicttion was wangyuan\n",
            "1/1 [==============================] - 0s 27ms/step\n",
            "1/1 [==============================] - 0s 22ms/step\n",
            "1/1 [==============================] - 0s 21ms/step\n",
            "For image_path 0_0_5.jpg of person yangmi predicttion was yangmi\n",
            "1/1 [==============================] - 0s 20ms/step\n",
            "1/1 [==============================] - 0s 22ms/step\n",
            "1/1 [==============================] - 0s 20ms/step\n",
            "For image_path 0_0_3.jpg of person yangmi predicttion was yangmi\n",
            "1/1 [==============================] - 0s 24ms/step\n",
            "1/1 [==============================] - 0s 23ms/step\n",
            "1/1 [==============================] - 0s 21ms/step\n",
            "1/1 [==============================] - 0s 19ms/step\n",
            "1/1 [==============================] - 0s 20ms/step\n",
            "1/1 [==============================] - 0s 22ms/step\n",
            "For image_path 0_0_10.jpg of person huangjingyu predicttion was huangjingyu\n",
            "1/1 [==============================] - 0s 22ms/step\n",
            "1/1 [==============================] - 0s 21ms/step\n",
            "1/1 [==============================] - 0s 19ms/step\n",
            "24.742268041237114\n"
          ]
        }
      ]
    }
  ]
}